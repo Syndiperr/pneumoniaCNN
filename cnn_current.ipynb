{
 "cells": [
  {
   "cell_type": "code",
   "execution_count": null,
   "metadata": {},
   "outputs": [],
   "source": [
    "from keras.models import Sequential\n",
    "from keras.layers import Dense, Activation\n",
    "\n",
    "def create_model(img_wid, img_hei):\n",
    "    model = Sequential([\n",
    "        # Flatten -> transfrom 2d array to 1 dim array. \n",
    "        keras.layers.Flatten(input_shape=(img_wid, img_hei)),\n",
    "        # Dense -> densley connected, layer has 128 nodes.\n",
    "        # Second layer has 2 nodes, array of 2 prob scores that sum to 1.\n",
    "        # what the image is one of two classes. \n",
    "        keras.layers.Dense(128, activation=tf.nn.relu),\n",
    "        keras.layers.Dense(2, activation=tf.nn.softmax)\n",
    "    ])\n",
    "    \n",
    "    # Compile the model & what should be chosen as train algorithm, tf.train.AdamOpimizer()\n",
    "    model.compile(optimizer=tf.train.AdamOptimizer(),\n",
    "                 loss='sparse_categorical_crossentropy',\n",
    "                 metrics=['accuracy'])\n",
    "    # AdamOptimizer() uses momentum\n",
    "    return model\n",
    "    "
   ]
  },
  {
   "cell_type": "code",
   "execution_count": null,
   "metadata": {},
   "outputs": [],
   "source": [
    "def train_and_test(model, train_imgs, train_labels, test_imgs, test_labels, epochs)\n",
    "    epochs = 5\n",
    "    \n",
    "    # Train the model\n",
    "    model.fit(train_images, train_labels, epochs)\n",
    "    \n",
    "    # Eval the accuracy\n",
    "    test_loss, test_acc = model.evaluate(test_imgs, test_labels)\n",
    "    \n",
    "    print('Test Accuracy:', test_acc)"
   ]
  },
  {
   "cell_type": "code",
   "execution_count": null,
   "metadata": {},
   "outputs": [],
   "source": []
  },
  {
   "cell_type": "code",
   "execution_count": null,
   "metadata": {},
   "outputs": [],
   "source": []
  }
 ],
 "metadata": {
  "kernelspec": {
   "display_name": "Python 3",
   "language": "python",
   "name": "python3"
  },
  "language_info": {
   "codemirror_mode": {
    "name": "ipython",
    "version": 3
   },
   "file_extension": ".py",
   "mimetype": "text/x-python",
   "name": "python",
   "nbconvert_exporter": "python",
   "pygments_lexer": "ipython3",
   "version": "3.6.5"
  }
 },
 "nbformat": 4,
 "nbformat_minor": 2
}
